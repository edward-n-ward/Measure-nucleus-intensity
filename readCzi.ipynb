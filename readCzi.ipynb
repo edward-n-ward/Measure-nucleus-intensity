{
 "cells": [
  {
   "cell_type": "code",
   "execution_count": 4,
   "metadata": {},
   "outputs": [],
   "source": [
    "from czifile import imread\n",
    "from skimage import io, transform\n",
    "import numpy as np\n",
    "import glob\n",
    "from os import walk"
   ]
  },
  {
   "cell_type": "code",
   "execution_count": 5,
   "metadata": {},
   "outputs": [],
   "source": [
    "path = '' # Path to image file\n",
    "f = []\n",
    "for (dirpath, dirnames, filenames) in walk(path):\n",
    "    f.extend(dirnames)\n",
    "    break"
   ]
  },
  {
   "cell_type": "code",
   "execution_count": 6,
   "metadata": {},
   "outputs": [
    {
     "name": "stdout",
     "output_type": "stream",
     "text": [
      "Z:/Users/ew535/Bismoy/26-04-2023/cntrl 1\n",
      "Z:/Users/ew535/Bismoy/26-04-2023/cntrl 3\n",
      "Z:/Users/ew535/Bismoy/26-04-2023/Ctrl 2\n",
      "Z:/Users/ew535/Bismoy/26-04-2023/h2o2-1\n",
      "Z:/Users/ew535/Bismoy/26-04-2023/h2o2-2\n",
      "Z:/Users/ew535/Bismoy/26-04-2023/h2o2-3\n",
      "Z:/Users/ew535/Bismoy/26-04-2023/P 1\n",
      "Z:/Users/ew535/Bismoy/26-04-2023/P 2\n",
      "Z:/Users/ew535/Bismoy/26-04-2023/P 3\n",
      "Z:/Users/ew535/Bismoy/26-04-2023/P+H 1\n",
      "Z:/Users/ew535/Bismoy/26-04-2023/P+H 2\n",
      "Z:/Users/ew535/Bismoy/26-04-2023/P+H 3\n"
     ]
    }
   ],
   "source": [
    "for d in range(len(f)):\n",
    "    imDir = path + '/' + f[d]\n",
    "    print(imDir)\n",
    "\n",
    "    files = glob.glob(imDir + '/*.czi')\n",
    "\n",
    "    for file in range(len(files)):\n",
    "        image = imread(files[file])\n",
    "        image.squeeze().astype('uint16')\n",
    "        io.imsave(imDir + '/' + str(file) + '.tif', image)\n"
   ]
  },
  {
   "cell_type": "code",
   "execution_count": null,
   "metadata": {},
   "outputs": [
    {
     "data": {
      "text/plain": [
       "[]"
      ]
     },
     "execution_count": 41,
     "metadata": {},
     "output_type": "execute_result"
    }
   ],
   "source": []
  },
  {
   "cell_type": "code",
   "execution_count": null,
   "metadata": {},
   "outputs": [],
   "source": []
  }
 ],
 "metadata": {
  "kernelspec": {
   "display_name": "CZIfiles",
   "language": "python",
   "name": "python3"
  },
  "language_info": {
   "codemirror_mode": {
    "name": "ipython",
    "version": 3
   },
   "file_extension": ".py",
   "mimetype": "text/x-python",
   "name": "python",
   "nbconvert_exporter": "python",
   "pygments_lexer": "ipython3",
   "version": "3.11.3"
  },
  "orig_nbformat": 4
 },
 "nbformat": 4,
 "nbformat_minor": 2
}
